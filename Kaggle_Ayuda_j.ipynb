{
 "cells": [
  {
   "attachments": {},
   "cell_type": "markdown",
   "metadata": {},
   "source": [
    "#### Aquí encontrarás todo lo que necesitas saber: https://www.kaggle.com/t/ab8726f0cfc84544abbae69a6be88071"
   ]
  },
  {
   "attachments": {},
   "cell_type": "markdown",
   "metadata": {},
   "source": [
    "## Librerias"
   ]
  },
  {
   "cell_type": "code",
   "execution_count": 1,
   "metadata": {},
   "outputs": [],
   "source": [
    "import pandas as pd\n",
    "\n",
    "import urllib.request\n",
    "from PIL import Image"
   ]
  },
  {
   "attachments": {},
   "cell_type": "markdown",
   "metadata": {},
   "source": [
    "## Data"
   ]
  },
  {
   "cell_type": "code",
   "execution_count": 26,
   "metadata": {},
   "outputs": [],
   "source": [
    "### Para que funcione necesitas bajarte los archivos de datos de Kaggle \n",
    "train = pd.read_csv(\"_Train__202304301950.csv\")\n"
   ]
  },
  {
   "attachments": {},
   "cell_type": "markdown",
   "metadata": {},
   "source": [
    "## Data exploration"
   ]
  },
  {
   "cell_type": "code",
   "execution_count": 27,
   "metadata": {},
   "outputs": [
    {
     "name": "stdout",
     "output_type": "stream",
     "text": [
      "<class 'pandas.core.frame.DataFrame'>\n",
      "RangeIndex: 912 entries, 0 to 911\n",
      "Data columns (total 14 columns):\n",
      " #   Column            Non-Null Count  Dtype  \n",
      "---  ------            --------------  -----  \n",
      " 0   laptop_ID         912 non-null    int64  \n",
      " 1   Company           912 non-null    object \n",
      " 2   Product           912 non-null    object \n",
      " 3   TypeName          912 non-null    object \n",
      " 4   Inches            912 non-null    float64\n",
      " 5   ScreenResolution  912 non-null    object \n",
      " 6   Cpu               912 non-null    object \n",
      " 7   Ram               912 non-null    object \n",
      " 8   Memory            912 non-null    object \n",
      " 9   Gpu               912 non-null    object \n",
      " 10  OpSys             912 non-null    object \n",
      " 11  Weight            912 non-null    object \n",
      " 12  Price_euros       912 non-null    float64\n",
      " 13  column1           0 non-null      float64\n",
      "dtypes: float64(3), int64(1), object(10)\n",
      "memory usage: 99.9+ KB\n"
     ]
    }
   ],
   "source": [
    "train.info()"
   ]
  },
  {
   "cell_type": "code",
   "execution_count": 28,
   "metadata": {},
   "outputs": [
    {
     "data": {
      "text/html": [
       "<div>\n",
       "<style scoped>\n",
       "    .dataframe tbody tr th:only-of-type {\n",
       "        vertical-align: middle;\n",
       "    }\n",
       "\n",
       "    .dataframe tbody tr th {\n",
       "        vertical-align: top;\n",
       "    }\n",
       "\n",
       "    .dataframe thead th {\n",
       "        text-align: right;\n",
       "    }\n",
       "</style>\n",
       "<table border=\"1\" class=\"dataframe\">\n",
       "  <thead>\n",
       "    <tr style=\"text-align: right;\">\n",
       "      <th></th>\n",
       "      <th>laptop_ID</th>\n",
       "      <th>Company</th>\n",
       "      <th>Product</th>\n",
       "      <th>TypeName</th>\n",
       "      <th>Inches</th>\n",
       "      <th>ScreenResolution</th>\n",
       "      <th>Cpu</th>\n",
       "      <th>Ram</th>\n",
       "      <th>Memory</th>\n",
       "      <th>Gpu</th>\n",
       "      <th>OpSys</th>\n",
       "      <th>Weight</th>\n",
       "      <th>Price_euros</th>\n",
       "      <th>column1</th>\n",
       "    </tr>\n",
       "  </thead>\n",
       "  <tbody>\n",
       "    <tr>\n",
       "      <th>0</th>\n",
       "      <td>1104</td>\n",
       "      <td>Acer</td>\n",
       "      <td>Aspire ES1-523</td>\n",
       "      <td>Notebook</td>\n",
       "      <td>15.6</td>\n",
       "      <td>1366x768</td>\n",
       "      <td>AMD A8-Series 7410 2.2GHz</td>\n",
       "      <td>4GB</td>\n",
       "      <td>500GB HDD</td>\n",
       "      <td>AMD Radeon R5</td>\n",
       "      <td>Windows 10</td>\n",
       "      <td>2.4kg</td>\n",
       "      <td>387.0</td>\n",
       "      <td>NaN</td>\n",
       "    </tr>\n",
       "    <tr>\n",
       "      <th>1</th>\n",
       "      <td>114</td>\n",
       "      <td>Dell</td>\n",
       "      <td>XPS 13</td>\n",
       "      <td>Ultrabook</td>\n",
       "      <td>13.3</td>\n",
       "      <td>Quad HD+ / Touchscreen 3200x1800</td>\n",
       "      <td>Intel Core i7 7560U 2.4GHz</td>\n",
       "      <td>8GB</td>\n",
       "      <td>256GB SSD</td>\n",
       "      <td>Intel Iris Plus Graphics 640</td>\n",
       "      <td>Windows 10</td>\n",
       "      <td>1.23kg</td>\n",
       "      <td>1379.0</td>\n",
       "      <td>NaN</td>\n",
       "    </tr>\n",
       "    <tr>\n",
       "      <th>2</th>\n",
       "      <td>172</td>\n",
       "      <td>Acer</td>\n",
       "      <td>Aspire A517-51G</td>\n",
       "      <td>Notebook</td>\n",
       "      <td>17.3</td>\n",
       "      <td>IPS Panel Full HD 1920x1080</td>\n",
       "      <td>Intel Core i5 8250U 1.6GHz</td>\n",
       "      <td>8GB</td>\n",
       "      <td>256GB SSD</td>\n",
       "      <td>Nvidia GeForce MX150</td>\n",
       "      <td>Windows 10</td>\n",
       "      <td>3kg</td>\n",
       "      <td>854.0</td>\n",
       "      <td>NaN</td>\n",
       "    </tr>\n",
       "    <tr>\n",
       "      <th>3</th>\n",
       "      <td>918</td>\n",
       "      <td>HP</td>\n",
       "      <td>Elitebook 820</td>\n",
       "      <td>Netbook</td>\n",
       "      <td>12.5</td>\n",
       "      <td>Full HD 1920x1080</td>\n",
       "      <td>Intel Core i7 7500U 2.7GHz</td>\n",
       "      <td>8GB</td>\n",
       "      <td>512GB SSD</td>\n",
       "      <td>Intel HD Graphics 620</td>\n",
       "      <td>Windows 10</td>\n",
       "      <td>1.26kg</td>\n",
       "      <td>1483.0</td>\n",
       "      <td>NaN</td>\n",
       "    </tr>\n",
       "    <tr>\n",
       "      <th>4</th>\n",
       "      <td>447</td>\n",
       "      <td>Lenovo</td>\n",
       "      <td>IdeaPad 320-15AST</td>\n",
       "      <td>Notebook</td>\n",
       "      <td>17.3</td>\n",
       "      <td>1600x900</td>\n",
       "      <td>AMD A6-Series 9220 2.5GHz</td>\n",
       "      <td>8GB</td>\n",
       "      <td>1TB HDD</td>\n",
       "      <td>AMD Radeon R4</td>\n",
       "      <td>Windows 10</td>\n",
       "      <td>2.8kg</td>\n",
       "      <td>519.0</td>\n",
       "      <td>NaN</td>\n",
       "    </tr>\n",
       "  </tbody>\n",
       "</table>\n",
       "</div>"
      ],
      "text/plain": [
       "   laptop_ID Company            Product   TypeName  Inches  \\\n",
       "0       1104    Acer     Aspire ES1-523   Notebook    15.6   \n",
       "1        114    Dell             XPS 13  Ultrabook    13.3   \n",
       "2        172    Acer    Aspire A517-51G   Notebook    17.3   \n",
       "3        918      HP      Elitebook 820    Netbook    12.5   \n",
       "4        447  Lenovo  IdeaPad 320-15AST   Notebook    17.3   \n",
       "\n",
       "                   ScreenResolution                         Cpu  Ram  \\\n",
       "0                          1366x768   AMD A8-Series 7410 2.2GHz  4GB   \n",
       "1  Quad HD+ / Touchscreen 3200x1800  Intel Core i7 7560U 2.4GHz  8GB   \n",
       "2       IPS Panel Full HD 1920x1080  Intel Core i5 8250U 1.6GHz  8GB   \n",
       "3                 Full HD 1920x1080  Intel Core i7 7500U 2.7GHz  8GB   \n",
       "4                          1600x900   AMD A6-Series 9220 2.5GHz  8GB   \n",
       "\n",
       "      Memory                           Gpu       OpSys  Weight  Price_euros  \\\n",
       "0  500GB HDD                 AMD Radeon R5  Windows 10   2.4kg        387.0   \n",
       "1  256GB SSD  Intel Iris Plus Graphics 640  Windows 10  1.23kg       1379.0   \n",
       "2  256GB SSD          Nvidia GeForce MX150  Windows 10     3kg        854.0   \n",
       "3  512GB SSD         Intel HD Graphics 620  Windows 10  1.26kg       1483.0   \n",
       "4    1TB HDD                 AMD Radeon R4  Windows 10   2.8kg        519.0   \n",
       "\n",
       "   column1  \n",
       "0      NaN  \n",
       "1      NaN  \n",
       "2      NaN  \n",
       "3      NaN  \n",
       "4      NaN  "
      ]
     },
     "execution_count": 28,
     "metadata": {},
     "output_type": "execute_result"
    }
   ],
   "source": [
    "train.head()"
   ]
  },
  {
   "attachments": {},
   "cell_type": "markdown",
   "metadata": {},
   "source": [
    "## Data processing"
   ]
  },
  {
   "cell_type": "code",
   "execution_count": 29,
   "metadata": {},
   "outputs": [],
   "source": [
    "train['Ram'] = train['Ram'].str.replace('GB', '').astype(float)\n"
   ]
  },
  {
   "cell_type": "code",
   "execution_count": 30,
   "metadata": {},
   "outputs": [],
   "source": [
    "train['Weight'] = train['Weight'].str.replace('kg', '').astype(float)"
   ]
  },
  {
   "cell_type": "code",
   "execution_count": 31,
   "metadata": {},
   "outputs": [],
   "source": [
    "train = train.drop(\"column1\", axis=1)"
   ]
  },
  {
   "cell_type": "code",
   "execution_count": 32,
   "metadata": {},
   "outputs": [
    {
     "name": "stdout",
     "output_type": "stream",
     "text": [
      "<class 'pandas.core.frame.DataFrame'>\n",
      "RangeIndex: 912 entries, 0 to 911\n",
      "Data columns (total 13 columns):\n",
      " #   Column            Non-Null Count  Dtype  \n",
      "---  ------            --------------  -----  \n",
      " 0   laptop_ID         912 non-null    int64  \n",
      " 1   Company           912 non-null    object \n",
      " 2   Product           912 non-null    object \n",
      " 3   TypeName          912 non-null    object \n",
      " 4   Inches            912 non-null    float64\n",
      " 5   ScreenResolution  912 non-null    object \n",
      " 6   Cpu               912 non-null    object \n",
      " 7   Ram               912 non-null    float64\n",
      " 8   Memory            912 non-null    object \n",
      " 9   Gpu               912 non-null    object \n",
      " 10  OpSys             912 non-null    object \n",
      " 11  Weight            912 non-null    float64\n",
      " 12  Price_euros       912 non-null    float64\n",
      "dtypes: float64(4), int64(1), object(8)\n",
      "memory usage: 92.8+ KB\n"
     ]
    }
   ],
   "source": [
    "train.info()"
   ]
  },
  {
   "attachments": {},
   "cell_type": "markdown",
   "metadata": {},
   "source": [
    "-----------------------------------------------------------------------------------------------------------------"
   ]
  },
  {
   "attachments": {},
   "cell_type": "markdown",
   "metadata": {},
   "source": [
    "## Pasos que si o si debéis realizar para poder participar en la competición:"
   ]
  },
  {
   "attachments": {},
   "cell_type": "markdown",
   "metadata": {},
   "source": [
    "### 1. Definir X e y"
   ]
  },
  {
   "cell_type": "code",
   "execution_count": 34,
   "metadata": {},
   "outputs": [],
   "source": [
    "train = train[['laptop_ID','Inches', \"Ram\", \"Weight\",'Price_euros']]"
   ]
  },
  {
   "cell_type": "code",
   "execution_count": 35,
   "metadata": {},
   "outputs": [
    {
     "data": {
      "text/html": [
       "<div>\n",
       "<style scoped>\n",
       "    .dataframe tbody tr th:only-of-type {\n",
       "        vertical-align: middle;\n",
       "    }\n",
       "\n",
       "    .dataframe tbody tr th {\n",
       "        vertical-align: top;\n",
       "    }\n",
       "\n",
       "    .dataframe thead th {\n",
       "        text-align: right;\n",
       "    }\n",
       "</style>\n",
       "<table border=\"1\" class=\"dataframe\">\n",
       "  <thead>\n",
       "    <tr style=\"text-align: right;\">\n",
       "      <th></th>\n",
       "      <th>laptop_ID</th>\n",
       "      <th>Inches</th>\n",
       "      <th>Ram</th>\n",
       "      <th>Weight</th>\n",
       "      <th>Price_euros</th>\n",
       "    </tr>\n",
       "  </thead>\n",
       "  <tbody>\n",
       "    <tr>\n",
       "      <th>0</th>\n",
       "      <td>1104</td>\n",
       "      <td>15.6</td>\n",
       "      <td>4.0</td>\n",
       "      <td>2.40</td>\n",
       "      <td>387.00</td>\n",
       "    </tr>\n",
       "    <tr>\n",
       "      <th>1</th>\n",
       "      <td>114</td>\n",
       "      <td>13.3</td>\n",
       "      <td>8.0</td>\n",
       "      <td>1.23</td>\n",
       "      <td>1379.00</td>\n",
       "    </tr>\n",
       "    <tr>\n",
       "      <th>2</th>\n",
       "      <td>172</td>\n",
       "      <td>17.3</td>\n",
       "      <td>8.0</td>\n",
       "      <td>3.00</td>\n",
       "      <td>854.00</td>\n",
       "    </tr>\n",
       "    <tr>\n",
       "      <th>3</th>\n",
       "      <td>918</td>\n",
       "      <td>12.5</td>\n",
       "      <td>8.0</td>\n",
       "      <td>1.26</td>\n",
       "      <td>1483.00</td>\n",
       "    </tr>\n",
       "    <tr>\n",
       "      <th>4</th>\n",
       "      <td>447</td>\n",
       "      <td>17.3</td>\n",
       "      <td>8.0</td>\n",
       "      <td>2.80</td>\n",
       "      <td>519.00</td>\n",
       "    </tr>\n",
       "    <tr>\n",
       "      <th>...</th>\n",
       "      <td>...</td>\n",
       "      <td>...</td>\n",
       "      <td>...</td>\n",
       "      <td>...</td>\n",
       "      <td>...</td>\n",
       "    </tr>\n",
       "    <tr>\n",
       "      <th>907</th>\n",
       "      <td>996</td>\n",
       "      <td>15.6</td>\n",
       "      <td>6.0</td>\n",
       "      <td>2.20</td>\n",
       "      <td>549.00</td>\n",
       "    </tr>\n",
       "    <tr>\n",
       "      <th>908</th>\n",
       "      <td>731</td>\n",
       "      <td>17.3</td>\n",
       "      <td>32.0</td>\n",
       "      <td>4.36</td>\n",
       "      <td>3659.40</td>\n",
       "    </tr>\n",
       "    <tr>\n",
       "      <th>909</th>\n",
       "      <td>276</td>\n",
       "      <td>17.3</td>\n",
       "      <td>16.0</td>\n",
       "      <td>3.20</td>\n",
       "      <td>1549.00</td>\n",
       "    </tr>\n",
       "    <tr>\n",
       "      <th>910</th>\n",
       "      <td>585</td>\n",
       "      <td>17.3</td>\n",
       "      <td>16.0</td>\n",
       "      <td>4.14</td>\n",
       "      <td>2729.00</td>\n",
       "    </tr>\n",
       "    <tr>\n",
       "      <th>911</th>\n",
       "      <td>1173</td>\n",
       "      <td>15.6</td>\n",
       "      <td>4.0</td>\n",
       "      <td>1.91</td>\n",
       "      <td>478.89</td>\n",
       "    </tr>\n",
       "  </tbody>\n",
       "</table>\n",
       "<p>912 rows × 5 columns</p>\n",
       "</div>"
      ],
      "text/plain": [
       "     laptop_ID  Inches   Ram  Weight  Price_euros\n",
       "0         1104    15.6   4.0    2.40       387.00\n",
       "1          114    13.3   8.0    1.23      1379.00\n",
       "2          172    17.3   8.0    3.00       854.00\n",
       "3          918    12.5   8.0    1.26      1483.00\n",
       "4          447    17.3   8.0    2.80       519.00\n",
       "..         ...     ...   ...     ...          ...\n",
       "907        996    15.6   6.0    2.20       549.00\n",
       "908        731    17.3  32.0    4.36      3659.40\n",
       "909        276    17.3  16.0    3.20      1549.00\n",
       "910        585    17.3  16.0    4.14      2729.00\n",
       "911       1173    15.6   4.0    1.91       478.89\n",
       "\n",
       "[912 rows x 5 columns]"
      ]
     },
     "execution_count": 35,
     "metadata": {},
     "output_type": "execute_result"
    }
   ],
   "source": [
    "train"
   ]
  },
  {
   "cell_type": "code",
   "execution_count": 39,
   "metadata": {},
   "outputs": [
    {
     "data": {
      "text/plain": [
       "(912, 4)"
      ]
     },
     "execution_count": 39,
     "metadata": {},
     "output_type": "execute_result"
    }
   ],
   "source": [
    "X = train.drop(['Price_euros'], axis=1)\n",
    "y = train['Price_euros'].copy()\n",
    "X.shape"
   ]
  },
  {
   "cell_type": "code",
   "execution_count": 40,
   "metadata": {},
   "outputs": [
    {
     "data": {
      "text/plain": [
       "(912,)"
      ]
     },
     "execution_count": 40,
     "metadata": {},
     "output_type": "execute_result"
    }
   ],
   "source": [
    "y.shape"
   ]
  },
  {
   "attachments": {},
   "cell_type": "markdown",
   "metadata": {},
   "source": [
    "### 2. Dividir X_train, X_test, y_train, y_test"
   ]
  },
  {
   "cell_type": "code",
   "execution_count": 41,
   "metadata": {},
   "outputs": [],
   "source": [
    "from sklearn.model_selection import train_test_split"
   ]
  },
  {
   "cell_type": "code",
   "execution_count": 42,
   "metadata": {},
   "outputs": [],
   "source": [
    "X_train, X_test, y_train, y_test = train_test_split(X, y, test_size = 0.20, random_state = 42)"
   ]
  },
  {
   "cell_type": "code",
   "execution_count": 43,
   "metadata": {},
   "outputs": [
    {
     "data": {
      "text/html": [
       "<div>\n",
       "<style scoped>\n",
       "    .dataframe tbody tr th:only-of-type {\n",
       "        vertical-align: middle;\n",
       "    }\n",
       "\n",
       "    .dataframe tbody tr th {\n",
       "        vertical-align: top;\n",
       "    }\n",
       "\n",
       "    .dataframe thead th {\n",
       "        text-align: right;\n",
       "    }\n",
       "</style>\n",
       "<table border=\"1\" class=\"dataframe\">\n",
       "  <thead>\n",
       "    <tr style=\"text-align: right;\">\n",
       "      <th></th>\n",
       "      <th>laptop_ID</th>\n",
       "      <th>Inches</th>\n",
       "      <th>Ram</th>\n",
       "      <th>Weight</th>\n",
       "    </tr>\n",
       "  </thead>\n",
       "  <tbody>\n",
       "    <tr>\n",
       "      <th>25</th>\n",
       "      <td>26</td>\n",
       "      <td>15.6</td>\n",
       "      <td>4.0</td>\n",
       "      <td>2.30</td>\n",
       "    </tr>\n",
       "    <tr>\n",
       "      <th>84</th>\n",
       "      <td>776</td>\n",
       "      <td>15.6</td>\n",
       "      <td>16.0</td>\n",
       "      <td>2.72</td>\n",
       "    </tr>\n",
       "    <tr>\n",
       "      <th>10</th>\n",
       "      <td>1263</td>\n",
       "      <td>15.6</td>\n",
       "      <td>16.0</td>\n",
       "      <td>2.50</td>\n",
       "    </tr>\n",
       "    <tr>\n",
       "      <th>342</th>\n",
       "      <td>182</td>\n",
       "      <td>15.6</td>\n",
       "      <td>8.0</td>\n",
       "      <td>1.90</td>\n",
       "    </tr>\n",
       "    <tr>\n",
       "      <th>890</th>\n",
       "      <td>321</td>\n",
       "      <td>13.3</td>\n",
       "      <td>16.0</td>\n",
       "      <td>1.29</td>\n",
       "    </tr>\n",
       "    <tr>\n",
       "      <th>...</th>\n",
       "      <td>...</td>\n",
       "      <td>...</td>\n",
       "      <td>...</td>\n",
       "      <td>...</td>\n",
       "    </tr>\n",
       "    <tr>\n",
       "      <th>106</th>\n",
       "      <td>394</td>\n",
       "      <td>15.6</td>\n",
       "      <td>8.0</td>\n",
       "      <td>2.00</td>\n",
       "    </tr>\n",
       "    <tr>\n",
       "      <th>270</th>\n",
       "      <td>441</td>\n",
       "      <td>15.6</td>\n",
       "      <td>16.0</td>\n",
       "      <td>2.50</td>\n",
       "    </tr>\n",
       "    <tr>\n",
       "      <th>860</th>\n",
       "      <td>955</td>\n",
       "      <td>17.3</td>\n",
       "      <td>4.0</td>\n",
       "      <td>2.80</td>\n",
       "    </tr>\n",
       "    <tr>\n",
       "      <th>435</th>\n",
       "      <td>210</td>\n",
       "      <td>15.6</td>\n",
       "      <td>6.0</td>\n",
       "      <td>2.30</td>\n",
       "    </tr>\n",
       "    <tr>\n",
       "      <th>102</th>\n",
       "      <td>673</td>\n",
       "      <td>15.6</td>\n",
       "      <td>4.0</td>\n",
       "      <td>2.10</td>\n",
       "    </tr>\n",
       "  </tbody>\n",
       "</table>\n",
       "<p>729 rows × 4 columns</p>\n",
       "</div>"
      ],
      "text/plain": [
       "     laptop_ID  Inches   Ram  Weight\n",
       "25          26    15.6   4.0    2.30\n",
       "84         776    15.6  16.0    2.72\n",
       "10        1263    15.6  16.0    2.50\n",
       "342        182    15.6   8.0    1.90\n",
       "890        321    13.3  16.0    1.29\n",
       "..         ...     ...   ...     ...\n",
       "106        394    15.6   8.0    2.00\n",
       "270        441    15.6  16.0    2.50\n",
       "860        955    17.3   4.0    2.80\n",
       "435        210    15.6   6.0    2.30\n",
       "102        673    15.6   4.0    2.10\n",
       "\n",
       "[729 rows x 4 columns]"
      ]
     },
     "execution_count": 43,
     "metadata": {},
     "output_type": "execute_result"
    }
   ],
   "source": [
    "X_train"
   ]
  },
  {
   "attachments": {},
   "cell_type": "markdown",
   "metadata": {},
   "source": [
    "### 3. Asignar el modelo (vacío) a una variable\n"
   ]
  },
  {
   "cell_type": "code",
   "execution_count": 44,
   "metadata": {},
   "outputs": [],
   "source": [
    "from sklearn.linear_model import LinearRegression\n",
    "\n",
    "model = LinearRegression()"
   ]
  },
  {
   "cell_type": "code",
   "execution_count": 45,
   "metadata": {},
   "outputs": [
    {
     "data": {
      "text/plain": [
       "LinearRegression()"
      ]
     },
     "execution_count": 45,
     "metadata": {},
     "output_type": "execute_result"
    }
   ],
   "source": [
    "model.fit(X,y)"
   ]
  },
  {
   "cell_type": "code",
   "execution_count": 46,
   "metadata": {},
   "outputs": [
    {
     "data": {
      "text/plain": [
       "array([1048.17859406,  523.89326864,  960.74965996,  949.80366013,\n",
       "       1910.89478536,  823.89833142,  669.00073428, 1180.49800971,\n",
       "        967.19371385, 1209.93937539, 1231.29826087,  454.19165263,\n",
       "        733.29081296, 1232.52907675, 1224.03054204, 1787.87649563,\n",
       "       2028.35315935, 1286.03912245,  912.48873784,  432.32396243,\n",
       "        876.35994306,  675.28378668,  985.2790246 , 1434.91424163,\n",
       "        888.41773956,  498.73967733,  799.96247685, 1753.46427972,\n",
       "        964.11177503,  660.07206812, 1167.90945144, 1120.88458875,\n",
       "       1139.63522827, 1350.01744613, 1196.21753832,  541.77980071,\n",
       "       1127.59462039,  810.85505919, 1183.29570288, 1134.22643231,\n",
       "       1129.37716877, 1017.50862278, 1083.04367409, 1776.62649074,\n",
       "       1132.049556  ,  661.6819446 , 1864.61332412,  634.09787705,\n",
       "        993.64945668, 1010.60416969, 2195.97786521, 1120.46763827,\n",
       "        558.70370765, 1769.83188367,  790.97631561, 1173.81040896,\n",
       "       2151.15833584,  986.5985083 , 1995.65449895, 1873.71330486,\n",
       "        577.31606266, 1015.68455552,  796.01033728, 1218.42313905,\n",
       "        551.7260578 ,  801.06753916,  541.93383108, 1052.51435491,\n",
       "        996.06581045,  578.0417125 , 1343.19507867, 1172.02006937,\n",
       "       1013.522845  , 1185.92269336, 1068.30653618, 3645.27575925,\n",
       "       1838.44830983,  524.83610835,  591.50411502,  751.06806297,\n",
       "        995.91178008,  790.28576768, 1806.5378948 , 1042.58204006,\n",
       "        906.64954559, 1196.22394547, 1071.12516257,  659.39221607,\n",
       "       1876.44187066,  677.46009902, 1123.28918626, 1100.38039495,\n",
       "       1146.57086876,  733.00035167,  969.90710771,  907.75630837,\n",
       "       1850.83035183,  721.22580615,  755.19068348,  574.97371592,\n",
       "       1182.79988411, 1256.68754738, 1087.52941578,  674.46685367,\n",
       "        964.49831175,  698.44307611, 1077.7162757 , 1082.06597879,\n",
       "        678.65287287,  811.31780745, 1082.78036167, 1761.33182014,\n",
       "        999.54710029, 1946.52305227, 1169.95613233, 1860.53098298,\n",
       "        699.80277925,  605.65301595, 1040.45980478, 1045.92032018,\n",
       "        610.55610043,  591.72261063, 1233.78864878,  934.67762786,\n",
       "       1019.60353755, 1095.63766337, 1055.33005971, 1262.66924291,\n",
       "       1226.32271524, 1238.11046739,  621.20976928,  649.0256946 ,\n",
       "        735.78102922, 1019.88719936, 3613.77524753, 1099.91903946,\n",
       "       1854.24105507, 1100.50768863, 2043.44085046, 1216.63628502,\n",
       "        923.20085805, 1083.5797123 ,  600.15236573, 1024.76993445,\n",
       "       1131.51708797,  631.15611098, 1123.79829869, 1027.17234598,\n",
       "       1072.4924008 ,  733.72850514,  524.67567082, 1854.18114097,\n",
       "       1157.57704995, 2019.98817815, 1116.36730537, 1770.0922745 ,\n",
       "        722.58559633, 1053.20782443, 3679.81883631, 1899.45702243,\n",
       "       1126.78863952, 1116.65380416, 2158.73006587, 1198.44557009,\n",
       "       2005.43822814,  712.98151996, 1008.65979973,  975.80889646,\n",
       "        546.68288519,  762.3983375 , 1994.52561026, 1256.93399597,\n",
       "        695.0292416 , 1214.57914745,  979.55632471,  893.74749557,\n",
       "       1000.41202798,  647.90498957, 1155.53054071,  996.33204447,\n",
       "        736.59440913,  635.77893459, 1094.80014081])"
      ]
     },
     "execution_count": 46,
     "metadata": {},
     "output_type": "execute_result"
    }
   ],
   "source": [
    "pred = model.predict(X_test)\n",
    "pred"
   ]
  },
  {
   "attachments": {},
   "cell_type": "markdown",
   "metadata": {},
   "source": [
    "### 4. Sacar métricas, valorar el modelo \n",
    "\n",
    "Recuerda que en la competición se va a evaluar con la métrica de MAE."
   ]
  },
  {
   "cell_type": "code",
   "execution_count": 83,
   "metadata": {},
   "outputs": [
    {
     "name": "stdout",
     "output_type": "stream",
     "text": [
      "RMSE : 477.86077137664546\n"
     ]
    }
   ],
   "source": [
    "from sklearn.metrics import mean_squared_error\n",
    "import numpy as np\n",
    "\n",
    "print('RMSE :',np.sqrt(mean_squared_error(y_test,pred)))"
   ]
  },
  {
   "cell_type": "code",
   "execution_count": 49,
   "metadata": {},
   "outputs": [],
   "source": [
    "from sklearn import metrics"
   ]
  },
  {
   "cell_type": "code",
   "execution_count": 50,
   "metadata": {},
   "outputs": [
    {
     "name": "stdout",
     "output_type": "stream",
     "text": [
      "MAE: 324.78709048522427\n",
      "MSE: 228350.9168206826\n",
      "RMSE: 477.86077137664546\n"
     ]
    }
   ],
   "source": [
    "print('MAE:', metrics.mean_absolute_error(y_test, pred))\n",
    "print('MSE:', metrics.mean_squared_error(y_test, pred))\n",
    "print('RMSE:', np.sqrt(metrics.mean_squared_error(y_test, pred)))"
   ]
  },
  {
   "attachments": {},
   "cell_type": "markdown",
   "metadata": {},
   "source": [
    "-----------------------------------------------------------------"
   ]
  },
  {
   "attachments": {},
   "cell_type": "markdown",
   "metadata": {},
   "source": [
    "## Una vez listo el modelo, toca predecir con el dataset de predicción "
   ]
  },
  {
   "attachments": {},
   "cell_type": "markdown",
   "metadata": {},
   "source": [
    "Definición de **modelo que está listo**. \n",
    "\n",
    "Tras hacer suficientes pruebas, analizar los datos, hacer feature engineering, probar diferentes modelos con diferentes parámetros, es con este con el que observo mejores métricas y menos overfitting. ¡Cuidado con el overfitting aquí! Si vuestro modelo aprende muy bien de estos datos pero hay overfitting cuando le pasemos los datos desconocidos de `test.csv` nos arriesgamos a que digamos, no salga lo esperado."
   ]
  },
  {
   "attachments": {},
   "cell_type": "markdown",
   "metadata": {},
   "source": [
    "### 1. Entrena dicho modelo con TODOS tus datos de train, esto es con `train.csv` al completo.\n",
    "\n",
    "\n",
    "**CON LAS TRANSFORMACIONES QUE LE HAYAS REALIZADO A `X` INCLUÍDAS.**\n",
    "\n",
    "\n",
    "Véase:\n",
    "- Estandarización/Normalización\n",
    "- Eliminación de Outliers\n",
    "- Eliminación de columnas\n",
    "- Creación de columnas nuevas\n",
    "- Gestión de valores nulos\n",
    "- Y un largo etcétera de técnicas que como Data Scientist hayas considerado las mejores para tu dataset."
   ]
  },
  {
   "cell_type": "code",
   "execution_count": null,
   "metadata": {},
   "outputs": [],
   "source": []
  },
  {
   "attachments": {},
   "cell_type": "markdown",
   "metadata": {},
   "source": [
    "### 2. Carga los datos de `test.csv` para predecir."
   ]
  },
  {
   "cell_type": "code",
   "execution_count": 61,
   "metadata": {},
   "outputs": [
    {
     "data": {
      "text/html": [
       "<div>\n",
       "<style scoped>\n",
       "    .dataframe tbody tr th:only-of-type {\n",
       "        vertical-align: middle;\n",
       "    }\n",
       "\n",
       "    .dataframe tbody tr th {\n",
       "        vertical-align: top;\n",
       "    }\n",
       "\n",
       "    .dataframe thead th {\n",
       "        text-align: right;\n",
       "    }\n",
       "</style>\n",
       "<table border=\"1\" class=\"dataframe\">\n",
       "  <thead>\n",
       "    <tr style=\"text-align: right;\">\n",
       "      <th></th>\n",
       "      <th>laptop_ID</th>\n",
       "      <th>Company</th>\n",
       "      <th>Product</th>\n",
       "      <th>TypeName</th>\n",
       "      <th>Inches</th>\n",
       "      <th>ScreenResolution</th>\n",
       "      <th>Cpu</th>\n",
       "      <th>Ram</th>\n",
       "      <th>Memory</th>\n",
       "      <th>Gpu</th>\n",
       "      <th>OpSys</th>\n",
       "      <th>Weight</th>\n",
       "    </tr>\n",
       "  </thead>\n",
       "  <tbody>\n",
       "    <tr>\n",
       "      <th>0</th>\n",
       "      <td>750</td>\n",
       "      <td>Toshiba</td>\n",
       "      <td>Tecra X40-D-10G</td>\n",
       "      <td>Notebook</td>\n",
       "      <td>14.0</td>\n",
       "      <td>IPS Panel Full HD / Touchscreen 1920x1080</td>\n",
       "      <td>Intel Core i5 7200U 2.5GHz</td>\n",
       "      <td>8GB</td>\n",
       "      <td>256GB SSD</td>\n",
       "      <td>Intel HD Graphics 620</td>\n",
       "      <td>Windows 10</td>\n",
       "      <td>1.25kg</td>\n",
       "    </tr>\n",
       "    <tr>\n",
       "      <th>1</th>\n",
       "      <td>633</td>\n",
       "      <td>Mediacom</td>\n",
       "      <td>SmartBook 140</td>\n",
       "      <td>Notebook</td>\n",
       "      <td>14.0</td>\n",
       "      <td>Full HD 1920x1080</td>\n",
       "      <td>Intel Atom x5-Z8350 1.44GHz</td>\n",
       "      <td>2GB</td>\n",
       "      <td>32GB Flash Storage</td>\n",
       "      <td>Intel HD Graphics</td>\n",
       "      <td>Windows 10</td>\n",
       "      <td>1.4kg</td>\n",
       "    </tr>\n",
       "    <tr>\n",
       "      <th>2</th>\n",
       "      <td>363</td>\n",
       "      <td>Dell</td>\n",
       "      <td>Inspiron 7577</td>\n",
       "      <td>Gaming</td>\n",
       "      <td>15.6</td>\n",
       "      <td>Full HD 1920x1080</td>\n",
       "      <td>Intel Core i5 7300HQ 2.5GHz</td>\n",
       "      <td>8GB</td>\n",
       "      <td>1TB HDD</td>\n",
       "      <td>Nvidia GeForce GTX 1050</td>\n",
       "      <td>Windows 10</td>\n",
       "      <td>2.65kg</td>\n",
       "    </tr>\n",
       "    <tr>\n",
       "      <th>3</th>\n",
       "      <td>319</td>\n",
       "      <td>Asus</td>\n",
       "      <td>VivoBook Flip</td>\n",
       "      <td>2 in 1 Convertible</td>\n",
       "      <td>11.6</td>\n",
       "      <td>Touchscreen 1366x768</td>\n",
       "      <td>Intel Celeron Dual Core N3350 1.1GHz</td>\n",
       "      <td>2GB</td>\n",
       "      <td>32GB Flash Storage</td>\n",
       "      <td>Intel HD Graphics 500</td>\n",
       "      <td>Windows 10</td>\n",
       "      <td>1.1kg</td>\n",
       "    </tr>\n",
       "    <tr>\n",
       "      <th>4</th>\n",
       "      <td>14</td>\n",
       "      <td>Dell</td>\n",
       "      <td>Inspiron 3567</td>\n",
       "      <td>Notebook</td>\n",
       "      <td>15.6</td>\n",
       "      <td>Full HD 1920x1080</td>\n",
       "      <td>Intel Core i3 6006U 2GHz</td>\n",
       "      <td>4GB</td>\n",
       "      <td>256GB SSD</td>\n",
       "      <td>AMD Radeon R5 M430</td>\n",
       "      <td>Windows 10</td>\n",
       "      <td>2.2kg</td>\n",
       "    </tr>\n",
       "  </tbody>\n",
       "</table>\n",
       "</div>"
      ],
      "text/plain": [
       "   laptop_ID   Company          Product            TypeName  Inches  \\\n",
       "0        750   Toshiba  Tecra X40-D-10G            Notebook    14.0   \n",
       "1        633  Mediacom    SmartBook 140            Notebook    14.0   \n",
       "2        363      Dell    Inspiron 7577              Gaming    15.6   \n",
       "3        319      Asus    VivoBook Flip  2 in 1 Convertible    11.6   \n",
       "4         14      Dell    Inspiron 3567            Notebook    15.6   \n",
       "\n",
       "                            ScreenResolution  \\\n",
       "0  IPS Panel Full HD / Touchscreen 1920x1080   \n",
       "1                          Full HD 1920x1080   \n",
       "2                          Full HD 1920x1080   \n",
       "3                       Touchscreen 1366x768   \n",
       "4                          Full HD 1920x1080   \n",
       "\n",
       "                                    Cpu  Ram              Memory  \\\n",
       "0            Intel Core i5 7200U 2.5GHz  8GB           256GB SSD   \n",
       "1           Intel Atom x5-Z8350 1.44GHz  2GB  32GB Flash Storage   \n",
       "2           Intel Core i5 7300HQ 2.5GHz  8GB             1TB HDD   \n",
       "3  Intel Celeron Dual Core N3350 1.1GHz  2GB  32GB Flash Storage   \n",
       "4              Intel Core i3 6006U 2GHz  4GB           256GB SSD   \n",
       "\n",
       "                       Gpu       OpSys  Weight  \n",
       "0    Intel HD Graphics 620  Windows 10  1.25kg  \n",
       "1        Intel HD Graphics  Windows 10   1.4kg  \n",
       "2  Nvidia GeForce GTX 1050  Windows 10  2.65kg  \n",
       "3    Intel HD Graphics 500  Windows 10   1.1kg  \n",
       "4       AMD Radeon R5 M430  Windows 10   2.2kg  "
      ]
     },
     "execution_count": 61,
     "metadata": {},
     "output_type": "execute_result"
    }
   ],
   "source": [
    "X_pred = pd.read_csv(\"_Test__202304301950.csv\")\n",
    "X_pred.head()"
   ]
  },
  {
   "cell_type": "code",
   "execution_count": 63,
   "metadata": {},
   "outputs": [],
   "source": [
    "X_pred['Ram'] = X_pred['Ram'].str.replace('GB', '').astype(float)"
   ]
  },
  {
   "cell_type": "code",
   "execution_count": 68,
   "metadata": {},
   "outputs": [
    {
     "name": "stderr",
     "output_type": "stream",
     "text": [
      "c:\\Users\\Abraham\\AppData\\Local\\Programs\\Python\\Python37\\lib\\site-packages\\ipykernel_launcher.py:1: SettingWithCopyWarning: \n",
      "A value is trying to be set on a copy of a slice from a DataFrame.\n",
      "Try using .loc[row_indexer,col_indexer] = value instead\n",
      "\n",
      "See the caveats in the documentation: https://pandas.pydata.org/pandas-docs/stable/user_guide/indexing.html#returning-a-view-versus-a-copy\n",
      "  \"\"\"Entry point for launching an IPython kernel.\n"
     ]
    }
   ],
   "source": [
    "\n",
    "X_pred['Weight'] = X_pred['Weight'].str.replace('kg', '').astype(float)"
   ]
  },
  {
   "cell_type": "code",
   "execution_count": 69,
   "metadata": {},
   "outputs": [
    {
     "data": {
      "text/html": [
       "<div>\n",
       "<style scoped>\n",
       "    .dataframe tbody tr th:only-of-type {\n",
       "        vertical-align: middle;\n",
       "    }\n",
       "\n",
       "    .dataframe tbody tr th {\n",
       "        vertical-align: top;\n",
       "    }\n",
       "\n",
       "    .dataframe thead th {\n",
       "        text-align: right;\n",
       "    }\n",
       "</style>\n",
       "<table border=\"1\" class=\"dataframe\">\n",
       "  <thead>\n",
       "    <tr style=\"text-align: right;\">\n",
       "      <th></th>\n",
       "      <th>laptop_ID</th>\n",
       "      <th>Inches</th>\n",
       "      <th>Ram</th>\n",
       "      <th>Weight</th>\n",
       "    </tr>\n",
       "  </thead>\n",
       "  <tbody>\n",
       "    <tr>\n",
       "      <th>0</th>\n",
       "      <td>750</td>\n",
       "      <td>14.0</td>\n",
       "      <td>8.0</td>\n",
       "      <td>1.25</td>\n",
       "    </tr>\n",
       "    <tr>\n",
       "      <th>1</th>\n",
       "      <td>633</td>\n",
       "      <td>14.0</td>\n",
       "      <td>2.0</td>\n",
       "      <td>1.40</td>\n",
       "    </tr>\n",
       "    <tr>\n",
       "      <th>2</th>\n",
       "      <td>363</td>\n",
       "      <td>15.6</td>\n",
       "      <td>8.0</td>\n",
       "      <td>2.65</td>\n",
       "    </tr>\n",
       "    <tr>\n",
       "      <th>3</th>\n",
       "      <td>319</td>\n",
       "      <td>11.6</td>\n",
       "      <td>2.0</td>\n",
       "      <td>1.10</td>\n",
       "    </tr>\n",
       "    <tr>\n",
       "      <th>4</th>\n",
       "      <td>14</td>\n",
       "      <td>15.6</td>\n",
       "      <td>4.0</td>\n",
       "      <td>2.20</td>\n",
       "    </tr>\n",
       "  </tbody>\n",
       "</table>\n",
       "</div>"
      ],
      "text/plain": [
       "   laptop_ID  Inches  Ram  Weight\n",
       "0        750    14.0  8.0    1.25\n",
       "1        633    14.0  2.0    1.40\n",
       "2        363    15.6  8.0    2.65\n",
       "3        319    11.6  2.0    1.10\n",
       "4         14    15.6  4.0    2.20"
      ]
     },
     "execution_count": 69,
     "metadata": {},
     "output_type": "execute_result"
    }
   ],
   "source": [
    "X_pred.head()"
   ]
  },
  {
   "cell_type": "code",
   "execution_count": 70,
   "metadata": {},
   "outputs": [],
   "source": [
    "X_pred=X_pred[['laptop_ID','Inches', \"Ram\", \"Weight\"]]"
   ]
  },
  {
   "cell_type": "code",
   "execution_count": 71,
   "metadata": {},
   "outputs": [
    {
     "data": {
      "text/html": [
       "<div>\n",
       "<style scoped>\n",
       "    .dataframe tbody tr th:only-of-type {\n",
       "        vertical-align: middle;\n",
       "    }\n",
       "\n",
       "    .dataframe tbody tr th {\n",
       "        vertical-align: top;\n",
       "    }\n",
       "\n",
       "    .dataframe thead th {\n",
       "        text-align: right;\n",
       "    }\n",
       "</style>\n",
       "<table border=\"1\" class=\"dataframe\">\n",
       "  <thead>\n",
       "    <tr style=\"text-align: right;\">\n",
       "      <th></th>\n",
       "      <th>laptop_ID</th>\n",
       "      <th>Inches</th>\n",
       "      <th>Ram</th>\n",
       "      <th>Weight</th>\n",
       "    </tr>\n",
       "  </thead>\n",
       "  <tbody>\n",
       "    <tr>\n",
       "      <th>0</th>\n",
       "      <td>750</td>\n",
       "      <td>14.0</td>\n",
       "      <td>8.0</td>\n",
       "      <td>1.25</td>\n",
       "    </tr>\n",
       "    <tr>\n",
       "      <th>1</th>\n",
       "      <td>633</td>\n",
       "      <td>14.0</td>\n",
       "      <td>2.0</td>\n",
       "      <td>1.40</td>\n",
       "    </tr>\n",
       "    <tr>\n",
       "      <th>2</th>\n",
       "      <td>363</td>\n",
       "      <td>15.6</td>\n",
       "      <td>8.0</td>\n",
       "      <td>2.65</td>\n",
       "    </tr>\n",
       "    <tr>\n",
       "      <th>3</th>\n",
       "      <td>319</td>\n",
       "      <td>11.6</td>\n",
       "      <td>2.0</td>\n",
       "      <td>1.10</td>\n",
       "    </tr>\n",
       "    <tr>\n",
       "      <th>4</th>\n",
       "      <td>14</td>\n",
       "      <td>15.6</td>\n",
       "      <td>4.0</td>\n",
       "      <td>2.20</td>\n",
       "    </tr>\n",
       "    <tr>\n",
       "      <th>...</th>\n",
       "      <td>...</td>\n",
       "      <td>...</td>\n",
       "      <td>...</td>\n",
       "      <td>...</td>\n",
       "    </tr>\n",
       "    <tr>\n",
       "      <th>386</th>\n",
       "      <td>1132</td>\n",
       "      <td>12.5</td>\n",
       "      <td>8.0</td>\n",
       "      <td>1.25</td>\n",
       "    </tr>\n",
       "    <tr>\n",
       "      <th>387</th>\n",
       "      <td>49</td>\n",
       "      <td>15.6</td>\n",
       "      <td>4.0</td>\n",
       "      <td>2.30</td>\n",
       "    </tr>\n",
       "    <tr>\n",
       "      <th>388</th>\n",
       "      <td>1243</td>\n",
       "      <td>15.6</td>\n",
       "      <td>4.0</td>\n",
       "      <td>2.65</td>\n",
       "    </tr>\n",
       "    <tr>\n",
       "      <th>389</th>\n",
       "      <td>924</td>\n",
       "      <td>12.5</td>\n",
       "      <td>8.0</td>\n",
       "      <td>1.09</td>\n",
       "    </tr>\n",
       "    <tr>\n",
       "      <th>390</th>\n",
       "      <td>726</td>\n",
       "      <td>14.0</td>\n",
       "      <td>4.0</td>\n",
       "      <td>1.40</td>\n",
       "    </tr>\n",
       "  </tbody>\n",
       "</table>\n",
       "<p>391 rows × 4 columns</p>\n",
       "</div>"
      ],
      "text/plain": [
       "     laptop_ID  Inches  Ram  Weight\n",
       "0          750    14.0  8.0    1.25\n",
       "1          633    14.0  2.0    1.40\n",
       "2          363    15.6  8.0    2.65\n",
       "3          319    11.6  2.0    1.10\n",
       "4           14    15.6  4.0    2.20\n",
       "..         ...     ...  ...     ...\n",
       "386       1132    12.5  8.0    1.25\n",
       "387         49    15.6  4.0    2.30\n",
       "388       1243    15.6  4.0    2.65\n",
       "389        924    12.5  8.0    1.09\n",
       "390        726    14.0  4.0    1.40\n",
       "\n",
       "[391 rows x 4 columns]"
      ]
     },
     "execution_count": 71,
     "metadata": {},
     "output_type": "execute_result"
    }
   ],
   "source": [
    "X_pred"
   ]
  },
  {
   "attachments": {},
   "cell_type": "markdown",
   "metadata": {},
   "source": [
    "**¿Por qué da error?** "
   ]
  },
  {
   "cell_type": "code",
   "execution_count": 72,
   "metadata": {},
   "outputs": [
    {
     "data": {
      "text/plain": [
       "array([1162.51150447,  484.44460493, 1002.60464019,  578.69790028,\n",
       "        518.7983766 ,  440.51878505, 1922.07857077, 1884.9836653 ,\n",
       "       1093.67238005,  961.08155565, 1084.25980355, 1031.48719347,\n",
       "        986.66596364,  528.09242692, 1067.35380376, 1113.62035549,\n",
       "       2021.28949844,  588.84244059, 1091.45188337, 1206.74798287,\n",
       "        890.37897335,  694.43459746, 1131.56532184,  641.14703176,\n",
       "       1160.33170657,  921.72117601,  894.32179033,  550.73846978,\n",
       "       1061.17193436,  969.92397155, 1030.94775432,  872.28344511,\n",
       "       1110.06966215, 1094.12750004, 1167.11715654, 1063.86846439,\n",
       "       1261.90283531, 1130.63538106, 2074.42084778, 1828.27134006,\n",
       "        956.52610276,  699.64194941, 1096.12620332,  963.55839364,\n",
       "       1916.01756803,  966.89610979, 1805.94786414, 1002.56572891,\n",
       "       1911.50629334,  668.85311106,  556.33850934,  994.05982835,\n",
       "       1123.77851326,  523.42128483,  643.31985854, 1006.82471183,\n",
       "        888.61904655, 1237.95351543, 1192.30164954,  523.00102044,\n",
       "       1002.60812575, 1074.49424876,  605.91924997,  996.30820951,\n",
       "        856.75028755, 1868.03997293, 1756.61244417, 1029.75846603,\n",
       "        656.06787819,  661.14882799, 1101.86981657, 3586.73823883,\n",
       "       1987.22093447, 1130.80967621, 1015.25091286,  554.10058485,\n",
       "       1854.73944114, 1072.94338664, 1133.46437952,  692.19667297,\n",
       "       1445.42782235, 1102.62180499, 1830.3796331 ,  938.81865956,\n",
       "       1020.61147496, 1278.47676161, 1192.85503093,  538.41768564,\n",
       "        891.66011589, 1172.67244779, 1037.23777784,  597.82202302,\n",
       "       2114.94409396, 1114.44724971, 1211.78418436, 1088.35308072,\n",
       "        571.94349654,  690.28715861,  530.01239796, 1029.09928814,\n",
       "       1009.94150624, 1000.40505686,  530.0263402 , 1782.39563084,\n",
       "        585.42568449, 1897.31839168, 1087.8305054 , 1943.39344354,\n",
       "       1122.23754385, 1191.39000822,  996.59117277, 1203.39074613,\n",
       "       1763.64822061, 1246.48843455, 1133.94999788, 1097.85401492,\n",
       "       2667.42766736,  687.9325016 , 1179.89890386,  905.44363266,\n",
       "       1187.97617372, 1873.65989353, 1215.44407513,  641.60102381,\n",
       "       1109.08612366,  540.1057143 ,  883.47395532,  847.18036822,\n",
       "       1072.29126449,  688.31198258,  998.013102  , 1008.50576936,\n",
       "        420.18452917, 1001.07399286, 2035.17930812, 1938.12246269,\n",
       "       1910.99766026, 1985.31612922, 1120.73038673, 1084.73819452,\n",
       "       1131.65020498,  598.09871372, 1943.65214247, 1906.20904145,\n",
       "        701.75347175, 1748.32868889,  984.69078761, 1015.93741127,\n",
       "       1048.30181835, 1868.62416039, 1120.94399662, 1177.36045372,\n",
       "        397.43244965, 1885.82183643,  987.36640428, 1096.48045416,\n",
       "        626.0919404 , 1345.0565308 , 1438.00663713, 3514.71371958,\n",
       "       1123.11180029, 1095.39121478,  691.47239738, 1066.42782789,\n",
       "       3627.71547706, 1142.59824858,  981.32867253,  831.74326659,\n",
       "        991.58299036,  619.96291836,  915.01729527,  820.59092589,\n",
       "        624.8694884 , 1854.52877257,  543.88809375,  866.17104772,\n",
       "       1236.43638097, 1225.47002932,  823.90181698, 1006.01498913,\n",
       "       1874.47008458, 1096.76826111, 1049.84570936, 1008.89993677,\n",
       "       1025.32331584,  796.7404499 ,  469.8954652 ,  799.08530497,\n",
       "       1051.96097352, 1009.11491971,  668.54561429,  814.6612736 ,\n",
       "        675.461652  , 1087.40967705, 1900.1079995 , 1097.66717273,\n",
       "        606.63363285,  896.16384935, 2789.74249925,  844.13102914,\n",
       "       1008.93705439, 1109.97806416, 1860.31072697,  862.12243425,\n",
       "       1126.31317014, 1682.99663031, 1122.92081296, 1031.62031048,\n",
       "        444.62877051, 1107.54833211,  614.19839176, 1034.44995752,\n",
       "       1172.08865264, 1049.42544497,  570.7780432 , 1081.19756554,\n",
       "       1010.7419958 ,  527.49778278,  987.509414  ,  541.49962446,\n",
       "        911.66912243,  542.99795686, 1929.02305691,  448.57418527,\n",
       "       2019.20965384, 1293.72375372, 1922.50401261, 1113.19660554,\n",
       "       1232.77722581,  677.54879249,  644.5428745 , 1018.29912401,\n",
       "       1302.21771634, 1056.93556286,  708.8842803 , 1109.29130949,\n",
       "        970.55582892,  595.2934656 ,  604.33758177, 1217.3946806 ,\n",
       "        814.6594861 , 1140.266903  , 1002.19661999, 1059.65187831,\n",
       "        689.46301433,  991.2409618 , 2088.17079   , 1200.56027029,\n",
       "       1202.19714347, 1452.71240501, 1927.05193041, 1100.40018037,\n",
       "        963.59965639,  868.25162697, 1118.18780245, 1255.81329095,\n",
       "       1242.33402459, 1211.4920226 , 1068.19725412,  636.85553988,\n",
       "       1975.12956343,  729.86416414, 2009.97015993,  573.8530109 ,\n",
       "        798.09309731,  617.89240252,  697.95715005, 1120.34402166,\n",
       "        969.85538828, 1103.77266751,  866.41368598,  551.02561716,\n",
       "        653.41958203, 1822.11443355, 1991.69539925, 1871.48178752,\n",
       "        589.4027931 ,  693.49524331, 1887.81576557, 1224.35451033,\n",
       "       1255.39302656, 7157.03684833,  713.55144138, 1097.17863278,\n",
       "        613.40958242,  973.32734937,  902.73404912,  540.62602759,\n",
       "       1256.96772364, 1858.22683285, 1536.17760877, 1134.01078979,\n",
       "        988.34702117,  554.60629634,  975.09451358,  704.48309697,\n",
       "        881.57377068, 2126.93703194,  719.12796979,  596.28105362,\n",
       "        541.26419651,  620.62501784, 1010.4478773 , 1125.45616985,\n",
       "       1930.23213063, 2029.72323456, 1003.05627461,  733.73458849,\n",
       "       3808.73851147, 1274.97577953,  657.50653666, 1850.70390066,\n",
       "       2105.13792501, 1531.28790257, 1189.80097659, 1756.24917845,\n",
       "       2104.50184646, 2160.69129967, 1020.56729061,  485.90012724,\n",
       "        555.36834913, 1752.86840588,  931.53351294, 1035.79968333,\n",
       "        882.13412319, 1174.5108496 ,  522.21221111, 1989.8684104 ,\n",
       "       1026.58410899, 1203.24246576,  820.76238405, 1872.65836327,\n",
       "       1046.88991643,  575.0016004 ,  632.13664326, 1940.9956455 ,\n",
       "        993.90287638, 1054.89942326,  669.43786249, 1078.17845142,\n",
       "       1019.51516885,  480.35756568, 1001.07412746,  916.97852906,\n",
       "        971.53644581,  588.97612157,  901.12921171,  972.00145851,\n",
       "       1128.656321  , 1036.95063046, 2097.51486786,  597.51160466,\n",
       "       1063.8812787 , 1852.35707372, 1116.85323143,  725.94113259,\n",
       "       3507.09262775, 1004.97746919, 1480.16967809, 1270.8945749 ,\n",
       "        675.14369855,  965.06102189, 1790.54514118, 1177.08707693,\n",
       "        532.53398426,  642.72172884,  670.41150827, 1220.70271861,\n",
       "        819.25222072,  878.25252508,  523.14807969, 1850.42909924,\n",
       "       1119.03238074,  683.54201511, 1151.73753292, 1065.44485337,\n",
       "        790.57988618, 1035.29745741, 1226.82842673, 1286.57220104,\n",
       "       1151.6691213 ,  834.64734009, 1004.04386263, 1115.071572  ,\n",
       "       1888.25741167, 1919.34134195, 1300.3113813 ,  522.57378494,\n",
       "        685.89214324, 1272.97733251,  717.46782561])"
      ]
     },
     "execution_count": 72,
     "metadata": {},
     "output_type": "execute_result"
    }
   ],
   "source": [
    "predictions_submit = model.predict(X_pred)\n",
    "predictions_submit"
   ]
  },
  {
   "attachments": {},
   "cell_type": "markdown",
   "metadata": {},
   "source": [
    "IMPORTANTE: APLICAR LO MISMO A ESTOS DATOS QUE HAYÁIS APLICADO A LOS DATOS DE ENTRENAMIENTO\n",
    "\n",
    "- SI EL ARRAY CON EL QUE HICISTEIS `.fit()` ERA DE 4 COLUMNAS, PARA `.predict()` DEBEN SER LAS MISMAS\n",
    "- SI AL ARRAY CON EL QUE HICISTEIS `.fit()` LO NORMALIZASTEIS, PARA `.predict()` DEBÉIS NORMALIZARLO\n",
    "- TODO IGUAL SALVO BORRAR FILAS, EL NÚMERO DE ROWS SE DEBE MANTENER EN ESTE SET, PUES LA PREDICCIÓN DEBE TENER 391 FILAS, SI O SI"
   ]
  },
  {
   "attachments": {},
   "cell_type": "markdown",
   "metadata": {},
   "source": [
    "**Entonces, si al cargar los datos de train usé `index_col=0` para que utilizara la primera columna del conjunto de datos como índice, ¿tendré que hacerlo también para el conjunto `test.csv`?**"
   ]
  },
  {
   "cell_type": "code",
   "execution_count": null,
   "metadata": {},
   "outputs": [],
   "source": [
    "# ¿Qué opináis?\n",
    "# Sí"
   ]
  },
  {
   "attachments": {},
   "cell_type": "markdown",
   "metadata": {},
   "source": [
    "![](https://www.tierraljelechu.com/web/img/wiki_up/1.996-SorpresaDto.-1-Red.jpg)"
   ]
  },
  {
   "attachments": {},
   "cell_type": "markdown",
   "metadata": {},
   "source": [
    "### 3. AHORA puedo hacer la predicción que será lo que subirás a Kaggle. "
   ]
  },
  {
   "attachments": {},
   "cell_type": "markdown",
   "metadata": {},
   "source": [
    "**¿Qué es lo que subirás a Kaggle?**"
   ]
  },
  {
   "cell_type": "code",
   "execution_count": 43,
   "metadata": {},
   "outputs": [
    {
     "data": {
      "text/plain": [
       "array([1097.6423004 , 1095.00755928, 1084.79793741, 1101.01825451,\n",
       "        981.53500887, 1062.70472731, 1123.17875843, 1136.91660235,\n",
       "       1100.68891187, 1171.05845611, 1061.49713762, 1039.67799563,\n",
       "       1120.5592512 , 1084.55112248, 1067.42530516, 1144.60126397,\n",
       "       1008.086748  , 1087.21311678, 1117.59516743, 1166.6672209 ,\n",
       "       1136.28517025, 1137.01114934, 1201.1384173 , 1195.5395924 ,\n",
       "       1155.57935199, 1095.22712104, 1205.96877603, 1141.07304191,\n",
       "       1087.734768  , 1145.58929189, 1069.84048452, 1117.48538655,\n",
       "       1169.08240026, 1183.02457206, 1166.99656354, 1048.59589281,\n",
       "       1143.28389341, 1069.57766753, 1078.759989  , 1072.74768646,\n",
       "       1196.62216731, 1063.58297435, 1030.59182845,  995.79128941,\n",
       "       1065.55903019, 1129.78084514, 1071.26763597, 1167.64001493,\n",
       "       1224.39673002, 1248.32896191, 1181.26807797, 1092.56512673,\n",
       "       1090.69885177, 1189.17230135, 1066.32749635, 1158.8727784 ,\n",
       "       1102.11606331, 1053.33170455, 1106.66997846, 1072.30856294,\n",
       "       1065.99815371, 1100.57913099, 1154.26198143, 1132.7449289 ,\n",
       "       1091.57709881, 1115.16475417, 1086.52717832, 1132.07100973,\n",
       "       1118.14407183, 1168.8628385 , 1171.60736051, 1000.2923055 ,\n",
       "       1196.51238643, 1005.56178775, 1198.39389529, 1106.068175  ,\n",
       "       1090.36950913, 1057.41120648, 1150.74899326, 1201.35797906,\n",
       "       1198.94279969, 1099.26176043, 1052.74192038, 1197.39063348,\n",
       "       1175.32467655, 1112.65502782, 1137.18906317, 1073.62593351,\n",
       "       1077.1958035 , 1138.98720518, 1055.51208827, 1124.18202024,\n",
       "       1122.86464968, 1103.26677117, 1182.03654413, 1141.11552898,\n",
       "       1162.82489009, 1101.34759715, 1194.4417836 , 1070.60895068,\n",
       "       1115.94845423, 1100.14000747, 1093.99227818, 1068.8524566 ,\n",
       "       1151.39244465, 1114.74086454, 1109.47138229, 1161.17817689,\n",
       "       1147.34578598, 1187.96471167, 1121.24518966, 1023.94970111,\n",
       "       1021.60342286, 1133.60794205, 1114.68398272, 1025.43212708,\n",
       "       1040.76378515, 1164.89549292, 1076.015467  , 1061.4402558 ,\n",
       "       1193.12441304, 1121.5745323 , 1232.19117251, 1086.90942002,\n",
       "       1158.76299752, 1179.07246037, 1077.63492702, 1099.3042475 ,\n",
       "       1086.3741422 , 1027.38253705, 1194.66134536, 1093.44337378,\n",
       "       1103.43343388, 1113.51804097, 1027.46268928, 1040.58188855,\n",
       "       1016.29466814, 1244.92575462, 1129.59894854, 1069.3188333 ,\n",
       "       1039.78777651, 1199.05258057, 1123.52333496, 1153.82285791,\n",
       "       1115.28976894, 1206.07855691, 1135.0350935 , 1084.77068424,\n",
       "       1108.37357349, 1129.67106426, 1087.51520624, 1193.23419392,\n",
       "       1058.03704851, 1018.81962839, 1094.54118258, 1085.10002688,\n",
       "       1039.77575723, 1148.55337566, 1043.08602483, 1093.00425025,\n",
       "       1131.85144797, 1191.47769984, 1171.16823699, 1197.84499089,\n",
       "       1144.05235957, 1230.21511667, 1029.82336229, 1082.13594311,\n",
       "       1008.76066717, 1086.6369592 , 1139.33178172, 1201.6873217 ,\n",
       "       1128.57325545, 1142.73498901, 1083.89243719, 1080.59901079,\n",
       "       1118.12883794, 1106.01129318, 1038.72924018, 1002.17381436,\n",
       "       1101.12803539, 1093.3335929 , 1171.71714139, 1134.06229947,\n",
       "       1232.63029603, 1115.72889247, 1104.47436085, 1151.50222553,\n",
       "        985.37733968, 1133.95251859, 1097.7248281 , 1180.93873533,\n",
       "       1119.84368409, 1183.3539147 , 1164.47160329, 1238.77802533,\n",
       "        996.99887909, 1131.53733922, 1139.86545223, 1118.69297623,\n",
       "       1094.05880382, 1098.82263691, 1005.23244511, 1083.56309455,\n",
       "       1113.18869833, 1021.48001539, 1112.92748863, 1015.55184786,\n",
       "       1121.54727912, 1053.94951007, 1005.89113039, 1137.46550675,\n",
       "       1120.22990856, 1105.76608554, 1133.73295683, 1102.55518684,\n",
       "       1162.16620481, 1231.42270635, 1067.7546478 , 1088.39345328,\n",
       "       1079.61098286, 1197.29608649, 1131.12546888, 1132.1960245 ,\n",
       "       1138.3285199 , 1079.3088934 , 1091.86318622, 1125.93851433,\n",
       "       1008.19652888, 1101.72983885, 1143.59800216, 1161.06839601,\n",
       "       1105.62905148, 1117.68971442, 1139.4415626 , 1038.27649007,\n",
       "       1178.08443245, 1071.92632125, 1121.76684088, 1129.56128338,\n",
       "       1144.62851715,  994.48915274, 1005.74529165, 1224.72607266,\n",
       "       1141.74696108, 1078.54042724, 1013.56538003, 1132.1134968 ,\n",
       "       1130.90590712, 1130.68634536, 1104.9703662 , 1128.35369369,\n",
       "       1055.59622327, 1063.91231699, 1037.19391516, 1190.27011015,\n",
       "       1119.07521793, 1108.86559606, 1027.42180951, 1148.44359478,\n",
       "       1032.54223842, 1045.82572493, 1103.13134442, 1195.10046888,\n",
       "       1105.84861324, 1108.0971299 , 1137.35572587, 1204.87096723,\n",
       "       1016.9789993 , 1071.37741685, 1177.2061854 , 1162.71510921,\n",
       "       1087.07608272, 1168.64327674, 1190.91356154, 1192.35594688,\n",
       "       1218.907686  , 1118.03429095, 1198.72323793, 1242.40079438,\n",
       "       1097.33860364, 1118.74587529, 1228.56840347, 1171.81168838,\n",
       "       1169.74108555, 1133.84273771, 1070.82851244, 1146.78164768,\n",
       "       1208.69806414, 1122.80776786, 1079.72076374, 1170.28998995,\n",
       "       1203.55359666, 1085.86849304, 1090.58907089, 1204.63617157,\n",
       "       1081.87473342, 1131.08298181, 1112.48836511, 1098.95967097,\n",
       "       1121.65706   , 1077.30558438, 1144.71104485, 1232.95963868,\n",
       "       1070.63620386, 1136.14813619, 1086.66421238, 1097.39548546,\n",
       "       1186.30276457, 1049.91326337, 1077.70145266, 1168.75305762,\n",
       "       1068.52311396, 1095.58210955, 1168.3139341 , 1067.69776597,\n",
       "       1138.76764342, 1152.42295965, 1139.82380429, 1111.11809549,\n",
       "       1086.11530798, 1090.47929001, 1124.27656723, 1173.23883982,\n",
       "       1120.66903208, 1131.52210533, 1109.60841635, 1062.37538467,\n",
       "       1184.56150438, 1116.71692039, 1079.11497752, 1124.73092465,\n",
       "       1234.05744748, 1133.51339507, 1103.21387212, 1150.63921238,\n",
       "       1140.42959052, 1089.16191945, 1016.40444902, 1178.63333685,\n",
       "       1031.5542105 , 1108.70291613, 1204.98074811, 1098.49329427,\n",
       "       1203.22425402, 1072.69478741, 1114.9604263 , 1160.72381947,\n",
       "       1070.93829332, 1143.10199681, 1124.84070553, 1144.73829803,\n",
       "       1119.35166151, 1148.77293742, 1073.35347269, 1060.53636288,\n",
       "       1103.68024882, 1136.57202582, 1229.55643139, 1126.48741873,\n",
       "       1133.45651324, 1184.34194262, 1071.59697861, 1154.68587106,\n",
       "       1111.80403396, 1072.58500653, 1159.64124456, 1180.28005005,\n",
       "       1143.42092747, 1123.19399232, 1045.20791941, 1065.22968755,\n",
       "       1214.51645079, 1186.86690286, 1191.80704248, 1094.67821664,\n",
       "       1136.47747883, 1154.06967285, 1120.01034679, 1098.21685068,\n",
       "       1021.71481104, 1041.35035471, 1012.27365534, 1097.28570458,\n",
       "       1188.62339695, 1100.24978835, 1137.24594499, 1096.58376407,\n",
       "       1066.54705812, 1197.62542913, 1073.74934098])"
      ]
     },
     "execution_count": 43,
     "metadata": {},
     "output_type": "execute_result"
    }
   ],
   "source": [
    "predictions_submit = model.predict(X_pred)\n",
    "predictions_submit"
   ]
  },
  {
   "attachments": {},
   "cell_type": "markdown",
   "metadata": {},
   "source": [
    "**¡PERO! Para subir a Kaggle la predicción, ésta tendrá que tener una forma específica y no valdrá otra.**\n",
    "\n",
    "En este caso, la **MISMA** forma que `sample_submission.csv`. "
   ]
  },
  {
   "cell_type": "code",
   "execution_count": 73,
   "metadata": {},
   "outputs": [],
   "source": [
    "sample = pd.read_csv(\"_Sample__202304301950.csv\")"
   ]
  },
  {
   "cell_type": "code",
   "execution_count": 74,
   "metadata": {},
   "outputs": [
    {
     "data": {
      "text/html": [
       "<div>\n",
       "<style scoped>\n",
       "    .dataframe tbody tr th:only-of-type {\n",
       "        vertical-align: middle;\n",
       "    }\n",
       "\n",
       "    .dataframe tbody tr th {\n",
       "        vertical-align: top;\n",
       "    }\n",
       "\n",
       "    .dataframe thead th {\n",
       "        text-align: right;\n",
       "    }\n",
       "</style>\n",
       "<table border=\"1\" class=\"dataframe\">\n",
       "  <thead>\n",
       "    <tr style=\"text-align: right;\">\n",
       "      <th></th>\n",
       "      <th>laptop_ID</th>\n",
       "      <th>Price_euros</th>\n",
       "    </tr>\n",
       "  </thead>\n",
       "  <tbody>\n",
       "    <tr>\n",
       "      <th>0</th>\n",
       "      <td>750</td>\n",
       "      <td>500.0</td>\n",
       "    </tr>\n",
       "    <tr>\n",
       "      <th>1</th>\n",
       "      <td>726</td>\n",
       "      <td>500.0</td>\n",
       "    </tr>\n",
       "    <tr>\n",
       "      <th>2</th>\n",
       "      <td>633</td>\n",
       "      <td>500.0</td>\n",
       "    </tr>\n",
       "    <tr>\n",
       "      <th>3</th>\n",
       "      <td>363</td>\n",
       "      <td>650.0</td>\n",
       "    </tr>\n",
       "    <tr>\n",
       "      <th>4</th>\n",
       "      <td>319</td>\n",
       "      <td>650.0</td>\n",
       "    </tr>\n",
       "  </tbody>\n",
       "</table>\n",
       "</div>"
      ],
      "text/plain": [
       "   laptop_ID  Price_euros\n",
       "0        750        500.0\n",
       "1        726        500.0\n",
       "2        633        500.0\n",
       "3        363        650.0\n",
       "4        319        650.0"
      ]
     },
     "execution_count": 74,
     "metadata": {},
     "output_type": "execute_result"
    }
   ],
   "source": [
    "sample.head()"
   ]
  },
  {
   "cell_type": "code",
   "execution_count": 75,
   "metadata": {},
   "outputs": [
    {
     "data": {
      "text/plain": [
       "(391, 2)"
      ]
     },
     "execution_count": 75,
     "metadata": {},
     "output_type": "execute_result"
    }
   ],
   "source": [
    "sample.shape"
   ]
  },
  {
   "attachments": {},
   "cell_type": "markdown",
   "metadata": {},
   "source": [
    "### 4. Mete tus predicciones en un dataframe. \n",
    "\n",
    "En este caso, la **MISMA** forma que `sample_submission.csv`. "
   ]
  },
  {
   "cell_type": "code",
   "execution_count": 76,
   "metadata": {},
   "outputs": [],
   "source": [
    "submission = pd.DataFrame({\"I\": X_pred['laptop_ID'], \"Price_euros\": predictions_submit})"
   ]
  },
  {
   "cell_type": "code",
   "execution_count": 77,
   "metadata": {},
   "outputs": [
    {
     "data": {
      "text/html": [
       "<div>\n",
       "<style scoped>\n",
       "    .dataframe tbody tr th:only-of-type {\n",
       "        vertical-align: middle;\n",
       "    }\n",
       "\n",
       "    .dataframe tbody tr th {\n",
       "        vertical-align: top;\n",
       "    }\n",
       "\n",
       "    .dataframe thead th {\n",
       "        text-align: right;\n",
       "    }\n",
       "</style>\n",
       "<table border=\"1\" class=\"dataframe\">\n",
       "  <thead>\n",
       "    <tr style=\"text-align: right;\">\n",
       "      <th></th>\n",
       "      <th>laptop_ID</th>\n",
       "      <th>Price_euros</th>\n",
       "    </tr>\n",
       "  </thead>\n",
       "  <tbody>\n",
       "    <tr>\n",
       "      <th>0</th>\n",
       "      <td>750</td>\n",
       "      <td>1162.511504</td>\n",
       "    </tr>\n",
       "    <tr>\n",
       "      <th>1</th>\n",
       "      <td>726</td>\n",
       "      <td>484.444605</td>\n",
       "    </tr>\n",
       "    <tr>\n",
       "      <th>2</th>\n",
       "      <td>633</td>\n",
       "      <td>1002.604640</td>\n",
       "    </tr>\n",
       "    <tr>\n",
       "      <th>3</th>\n",
       "      <td>363</td>\n",
       "      <td>578.697900</td>\n",
       "    </tr>\n",
       "    <tr>\n",
       "      <th>4</th>\n",
       "      <td>319</td>\n",
       "      <td>518.798377</td>\n",
       "    </tr>\n",
       "  </tbody>\n",
       "</table>\n",
       "</div>"
      ],
      "text/plain": [
       "   laptop_ID  Price_euros\n",
       "0        750  1162.511504\n",
       "1        726   484.444605\n",
       "2        633  1002.604640\n",
       "3        363   578.697900\n",
       "4        319   518.798377"
      ]
     },
     "execution_count": 77,
     "metadata": {},
     "output_type": "execute_result"
    }
   ],
   "source": [
    "submission.head()"
   ]
  },
  {
   "cell_type": "code",
   "execution_count": 78,
   "metadata": {},
   "outputs": [
    {
     "data": {
      "text/plain": [
       "(391, 2)"
      ]
     },
     "execution_count": 78,
     "metadata": {},
     "output_type": "execute_result"
    }
   ],
   "source": [
    "submission.shape"
   ]
  },
  {
   "attachments": {},
   "cell_type": "markdown",
   "metadata": {},
   "source": [
    "### 5. Pásale el CHEQUEATOR para comprobar que efectivamente está listo para subir a Kaggle."
   ]
  },
  {
   "cell_type": "code",
   "execution_count": 80,
   "metadata": {},
   "outputs": [],
   "source": [
    "def chequeator(df_to_submit):\n",
    "    \"\"\"\n",
    "    Esta función se asegura de que tu submission tenga la forma requerida por Kaggle.\n",
    "    \n",
    "    Si es así, se guardará el dataframe en un `csv` y estará listo para subir a Kaggle.\n",
    "    \n",
    "    Si no, LEE EL MENSAJE Y HAZLE CASO.\n",
    "    \n",
    "    Si aún no:\n",
    "    - apaga tu ordenador, \n",
    "    - date una vuelta, \n",
    "    - enciendelo otra vez, \n",
    "    - abre este notebook y \n",
    "    - leelo todo de nuevo. \n",
    "    Todos nos merecemos una segunda oportunidad. También tú.\n",
    "    \"\"\"\n",
    "    if df_to_submit.shape == sample.shape:\n",
    "        if df_to_submit.columns.all() == sample.columns.all():\n",
    "            if df_to_submit.laptop_ID.all() == sample.laptop_ID.all():\n",
    "                print(\"You're ready to submit!\")\n",
    "                submission.to_csv(\"submission.csv\", index = False) #muy importante el index = False\n",
    "                urllib.request.urlretrieve(\"https://i.kym-cdn.com/photos/images/facebook/000/747/556/27a.jpg\", \"gfg.png\")     \n",
    "                img = Image.open(\"gfg.png\")\n",
    "                img.show()   \n",
    "            else:\n",
    "                print(\"Check the ids and try again\")\n",
    "        else:\n",
    "            print(\"Check the names of the columns and try again\")\n",
    "    else:\n",
    "        print(\"Check the number of rows and/or columns and try again\")\n",
    "        print(\"\\nMensaje secreto de Clara: No me puedo creer que después de todo este notebook hayas hecho algún cambio en las filas de `diamonds_test.csv`. Lloro.\")\n"
   ]
  },
  {
   "cell_type": "code",
   "execution_count": 82,
   "metadata": {},
   "outputs": [
    {
     "name": "stdout",
     "output_type": "stream",
     "text": [
      "You're ready to submit!\n"
     ]
    }
   ],
   "source": [
    "chequeator(submission)"
   ]
  },
  {
   "cell_type": "code",
   "execution_count": null,
   "metadata": {},
   "outputs": [],
   "source": []
  }
 ],
 "metadata": {
  "kernelspec": {
   "display_name": "Python 3",
   "language": "python",
   "name": "python3"
  },
  "language_info": {
   "codemirror_mode": {
    "name": "ipython",
    "version": 3
   },
   "file_extension": ".py",
   "mimetype": "text/x-python",
   "name": "python",
   "nbconvert_exporter": "python",
   "pygments_lexer": "ipython3",
   "version": "3.7.4"
  }
 },
 "nbformat": 4,
 "nbformat_minor": 4
}
